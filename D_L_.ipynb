{
  "nbformat": 4,
  "nbformat_minor": 0,
  "metadata": {
    "colab": {
      "provenance": [],
      "toc_visible": true,
      "authorship_tag": "ABX9TyPB0DVDhWpO9nePPe3M1p2Y",
      "include_colab_link": true
    },
    "kernelspec": {
      "name": "python3",
      "display_name": "Python 3"
    },
    "language_info": {
      "name": "python"
    }
  },
  "cells": [
    {
      "cell_type": "markdown",
      "metadata": {
        "id": "view-in-github",
        "colab_type": "text"
      },
      "source": [
        "<a href=\"https://colab.research.google.com/github/SUSHMA750/DL-COLAB/blob/main/D_L_.ipynb\" target=\"_parent\"><img src=\"https://colab.research.google.com/assets/colab-badge.svg\" alt=\"Open In Colab\"/></a>"
      ]
    },
    {
      "cell_type": "code",
      "execution_count": null,
      "metadata": {
        "colab": {
          "base_uri": "https://localhost:8080/"
        },
        "id": "kgtcHm5EmUEy",
        "outputId": "b494ad86-1b0c-4904-a9c8-a987cedebb08"
      },
      "outputs": [
        {
          "output_type": "stream",
          "name": "stdout",
          "text": [
            "[17, 15, 4]\n",
            "[10, 12, 9]\n",
            "[11, 13, 18]\n"
          ]
        }
      ],
      "source": [
        "A = [[12,7,3],\n",
        "\n",
        "    [4 ,5,6],\n",
        "\n",
        "    [7 ,8,9]]\n",
        "\n",
        "B = [[5,8,1],\n",
        "\n",
        "    [6,7,3],\n",
        "\n",
        "    [4,5,9]]\n",
        "\n",
        "result = [[0,0,0],\n",
        "\n",
        "         [0,0,0],\n",
        "\n",
        "         [0,0,0]]\n",
        "for x in range(len(A)):\n",
        "   for y in range(len(A[0])):\n",
        "\n",
        "       result[x][y] = A[x][y] + B[x][y]\n",
        "\n",
        "for q in result:\n",
        "\n",
        "   print(q)"
      ]
    },
    {
      "cell_type": "code",
      "source": [
        "MAX = 100\n",
        "mat = [[0 for x in range(MAX)] for y in range(MAX)]\n",
        "\n",
        "def fill_remaining(i, j, n):\n",
        "    x = 2\n",
        "    for k in range(i + 1, n):\n",
        "        mat[k][j] = x\n",
        "        x += 1\n",
        "    for k in range(i):\n",
        "        mat[k][j] = x\n",
        "        x += 1\n",
        "\n",
        "def constructmatrix(n):\n",
        "    right = n - 1\n",
        "    left = 0\n",
        "    for i in range(n):\n",
        "        if i % 2 == 0:\n",
        "            mat[i][right] = 1\n",
        "            fill_remaining(i, right, n)\n",
        "            right -= 1\n",
        "        else:\n",
        "            mat[i][left] = 1\n",
        "            fill_remaining(i, left, n)\n",
        "            left += 1\n",
        "\n",
        "n = 5\n",
        "constructmatrix(n)\n",
        "for i in range(n):\n",
        "    for j in range(n):\n",
        "        print(mat[i][j], end=' ')\n",
        "    print(' ')\n"
      ],
      "metadata": {
        "colab": {
          "base_uri": "https://localhost:8080/"
        },
        "id": "ZL07KToNH8gQ",
        "outputId": "c43e93f6-eae0-465b-ca7d-6c7793fe6f67"
      },
      "execution_count": null,
      "outputs": [
        {
          "output_type": "stream",
          "name": "stdout",
          "text": [
            "5 3 2 4 1  \n",
            "1 4 3 5 2  \n",
            "2 5 4 1 3  \n",
            "3 1 5 2 4  \n",
            "4 2 1 3 5  \n"
          ]
        }
      ]
    },
    {
      "cell_type": "markdown",
      "source": [
        "# **KEERAS**"
      ],
      "metadata": {
        "id": "5yIuau2HK6ae"
      }
    },
    {
      "cell_type": "code",
      "source": [
        "import numpy as np\n",
        "from keras.models import Sequential\n",
        "from keras.layers import Dense\n",
        "\n",
        "matrix_dim = 2\n",
        "num_samples = 10\n",
        "X = np.random.rand(num_samples, matrix_dim, matrix_dim)\n",
        "Y = np.random.rand(num_samples, matrix_dim, matrix_dim)\n",
        "\n",
        "true_results = np.matmul(X, Y)\n",
        "\n",
        "X = X.reshape((num_samples, matrix_dim * matrix_dim))\n",
        "Y = Y.reshape((num_samples, matrix_dim * matrix_dim))\n",
        "true_results = true_results.reshape((num_samples, matrix_dim * matrix_dim))\n",
        "\n",
        "model = Sequential()\n",
        "model.add(Dense(matrix_dim * matrix_dim, input_dim=matrix_dim * matrix_dim * 2))\n",
        "model.add(Dense(matrix_dim * matrix_dim))\n",
        "model.compile(loss='mean_squared_error', optimizer='adam')\n",
        "\n",
        "combined_input = np.concatenate((X, Y), axis=1)\n",
        "model.fit(combined_input, true_results, epochs=100, verbose=0)\n",
        "\n",
        "test_X = np.random.rand(1, matrix_dim, matrix_dim)\n",
        "test_Y = np.random.rand(1, matrix_dim, matrix_dim)\n",
        "test_true_result = np.matmul(test_X, test_Y)\n",
        "\n",
        "test_X = test_X.reshape((1, matrix_dim * matrix_dim))\n",
        "test_Y = test_Y.reshape((1, matrix_dim * matrix_dim))\n",
        "test_combined_input = np.concatenate((test_X, test_Y), axis=1)\n",
        "\n",
        "predicted_result = model.predict(test_combined_input)\n",
        "print(\"Predicted result:\")\n",
        "print(predicted_result.reshape((matrix_dim, matrix_dim)))\n",
        "print(\"True result:\")\n",
        "print(test_true_result)"
      ],
      "metadata": {
        "colab": {
          "base_uri": "https://localhost:8080/"
        },
        "id": "O2KngpQKKO5b",
        "outputId": "7f3c6d79-00ca-4389-d33b-ab58d9b2e7bc"
      },
      "execution_count": 1,
      "outputs": [
        {
          "output_type": "stream",
          "name": "stderr",
          "text": [
            "/usr/local/lib/python3.10/dist-packages/keras/src/layers/core/dense.py:87: UserWarning: Do not pass an `input_shape`/`input_dim` argument to a layer. When using Sequential models, prefer using an `Input(shape)` object as the first layer in the model instead.\n",
            "  super().__init__(activity_regularizer=activity_regularizer, **kwargs)\n"
          ]
        },
        {
          "output_type": "stream",
          "name": "stdout",
          "text": [
            "\u001b[1m1/1\u001b[0m \u001b[32m━━━━━━━━━━━━━━━━━━━━\u001b[0m\u001b[37m\u001b[0m \u001b[1m0s\u001b[0m 100ms/step\n",
            "Predicted result:\n",
            "[[0.02114941 0.2876383 ]\n",
            " [0.59284997 0.5459764 ]]\n",
            "True result:\n",
            "[[[0.07708508 0.15716112]\n",
            "  [0.25357419 0.49826958]]]\n"
          ]
        }
      ]
    },
    {
      "cell_type": "code",
      "source": [
        "import numpy as np\n",
        "import tensorflow as tf\n",
        "from tensorflow import keras\n",
        "from tensorflow.keras import layers"
      ],
      "metadata": {
        "id": "f5b-atr0RUE_"
      },
      "execution_count": 8,
      "outputs": []
    },
    {
      "cell_type": "code",
      "source": [
        "def is_prime(n):\n",
        "    if n <= 1:\n",
        "        return False\n",
        "    if n <= 3:\n",
        "        return True\n",
        "    if n % 2 == 0 or n % 3 == 0:\n",
        "        return False\n",
        "    i = 5\n",
        "    while i * i <= n:\n",
        "        if n % i == 0 or n % (i + 2) == 0:\n",
        "            return False\n",
        "        i += 6\n",
        "    return True\n",
        "\n",
        "def generate_data(num_samples, max_num):\n",
        "    X = np.arange(1, num_samples + 1).reshape(-1, 1)\n",
        "    Y = np.array([1 if is_prime(x) else 0 for x in X])\n",
        "    return X, Y\n",
        "\n",
        "num_samples = 1000\n",
        "max_num = num_samples  # Use numbers from 1 to num_samples\n",
        "\n",
        "X_train, Y_train = generate_data(num_samples, max_num)"
      ],
      "metadata": {
        "id": "hmwbUe9YSI1I"
      },
      "execution_count": 9,
      "outputs": []
    },
    {
      "cell_type": "code",
      "source": [
        "def create_model():\n",
        "    model = keras.Sequential([\n",
        "        layers.Input(shape=(1,)),\n",
        "        layers.Dense(256, activation='relu'),\n",
        "        layers.Dense(128, activation='relu'),\n",
        "        layers.Dense(64, activation='relu'),\n",
        "        layers.Dense(32, activation='relu'),\n",
        "        layers.Dense(1, activation='sigmoid')\n",
        "    ])\n",
        "\n",
        "    model.compile(optimizer='adam', loss='binary_crossentropy', metrics=['accuracy'])\n",
        "    return model"
      ],
      "metadata": {
        "id": "bJTgmKjxSZvF"
      },
      "execution_count": 10,
      "outputs": []
    },
    {
      "cell_type": "code",
      "source": [
        "def create_model():\n",
        "    model = keras.Sequential([\n",
        "        layers.Input(shape=(1,)),\n",
        "        layers.Dense(256, activation='relu'),\n",
        "        layers.Dense(128, activation='relu'),\n",
        "        layers.Dense(64, activation='relu'),\n",
        "        layers.Dense(32, activation='relu'),\n",
        "        layers.Dense(1, activation='sigmoid')\n",
        "    ])\n",
        "\n",
        "    model.compile(optimizer='adam', loss='binary_crossentropy', metrics=['accuracy'])\n",
        "    return model"
      ],
      "metadata": {
        "id": "UCmLhi3jSfV_"
      },
      "execution_count": 11,
      "outputs": []
    },
    {
      "cell_type": "code",
      "source": [
        "\n",
        "from sklearn.preprocessing import MinMaxScaler\n",
        "\n",
        "def generate_data(num_samples):\n",
        "    X = np.arange(1, num_samples + 1).reshape(-1, 1)\n",
        "    scaler = MinMaxScaler()\n",
        "    X_scaled = scaler.fit_transform(X)\n",
        "    Y = np.array([1 if is_prime(x) else 0 for x in X])\n",
        "    return X_scaled, Y"
      ],
      "metadata": {
        "id": "n5nnkL3GW19a"
      },
      "execution_count": 18,
      "outputs": []
    },
    {
      "cell_type": "code",
      "source": [
        "\n",
        "X_train, Y_train = generate_data(num_samples)\n",
        "\n",
        "model = create_model()\n",
        "\n",
        "history = model.fit(\n",
        "    X_train, Y_train,\n",
        "    epochs=50,  # Increase epochs\n",
        "    batch_size=128,  # Adjust batch size\n",
        "    validation_split=0.2  # Use a validation split to monitor performance\n",
        ")\n",
        "\n",
        "# Evaluate the model\n",
        "X_test, Y_test = generate_data(1000)  # Larger test set\n",
        "loss, accuracy = model.evaluate(X_test, Y_test)\n",
        "print(f'Test loss: {loss}, Test accuracy: {accuracy}')"
      ],
      "metadata": {
        "colab": {
          "base_uri": "https://localhost:8080/"
        },
        "id": "BFS9iSm6W_L7",
        "outputId": "7002e4b4-f312-46c7-9468-428068673282"
      },
      "execution_count": 19,
      "outputs": [
        {
          "output_type": "stream",
          "name": "stdout",
          "text": [
            "Epoch 1/50\n",
            "\u001b[1m7/7\u001b[0m \u001b[32m━━━━━━━━━━━━━━━━━━━━\u001b[0m\u001b[37m\u001b[0m \u001b[1m3s\u001b[0m 48ms/step - accuracy: 0.6027 - loss: 0.6861 - val_accuracy: 0.8550 - val_loss: 0.6339\n",
            "Epoch 2/50\n",
            "\u001b[1m7/7\u001b[0m \u001b[32m━━━━━━━━━━━━━━━━━━━━\u001b[0m\u001b[37m\u001b[0m \u001b[1m0s\u001b[0m 10ms/step - accuracy: 0.8267 - loss: 0.6483 - val_accuracy: 0.8550 - val_loss: 0.5535\n",
            "Epoch 3/50\n",
            "\u001b[1m7/7\u001b[0m \u001b[32m━━━━━━━━━━━━━━━━━━━━\u001b[0m\u001b[37m\u001b[0m \u001b[1m0s\u001b[0m 12ms/step - accuracy: 0.8308 - loss: 0.5922 - val_accuracy: 0.8550 - val_loss: 0.4561\n",
            "Epoch 4/50\n",
            "\u001b[1m7/7\u001b[0m \u001b[32m━━━━━━━━━━━━━━━━━━━━\u001b[0m\u001b[37m\u001b[0m \u001b[1m0s\u001b[0m 10ms/step - accuracy: 0.8309 - loss: 0.5130 - val_accuracy: 0.8550 - val_loss: 0.4162\n",
            "Epoch 5/50\n",
            "\u001b[1m7/7\u001b[0m \u001b[32m━━━━━━━━━━━━━━━━━━━━\u001b[0m\u001b[37m\u001b[0m \u001b[1m0s\u001b[0m 14ms/step - accuracy: 0.8332 - loss: 0.4607 - val_accuracy: 0.8550 - val_loss: 0.4683\n",
            "Epoch 6/50\n",
            "\u001b[1m7/7\u001b[0m \u001b[32m━━━━━━━━━━━━━━━━━━━━\u001b[0m\u001b[37m\u001b[0m \u001b[1m0s\u001b[0m 9ms/step - accuracy: 0.8237 - loss: 0.4673 - val_accuracy: 0.8550 - val_loss: 0.4879\n",
            "Epoch 7/50\n",
            "\u001b[1m7/7\u001b[0m \u001b[32m━━━━━━━━━━━━━━━━━━━━\u001b[0m\u001b[37m\u001b[0m \u001b[1m0s\u001b[0m 9ms/step - accuracy: 0.8271 - loss: 0.4677 - val_accuracy: 0.8550 - val_loss: 0.4554\n",
            "Epoch 8/50\n",
            "\u001b[1m7/7\u001b[0m \u001b[32m━━━━━━━━━━━━━━━━━━━━\u001b[0m\u001b[37m\u001b[0m \u001b[1m0s\u001b[0m 11ms/step - accuracy: 0.8112 - loss: 0.4884 - val_accuracy: 0.8550 - val_loss: 0.4372\n",
            "Epoch 9/50\n",
            "\u001b[1m7/7\u001b[0m \u001b[32m━━━━━━━━━━━━━━━━━━━━\u001b[0m\u001b[37m\u001b[0m \u001b[1m0s\u001b[0m 9ms/step - accuracy: 0.8280 - loss: 0.4575 - val_accuracy: 0.8550 - val_loss: 0.4267\n",
            "Epoch 10/50\n",
            "\u001b[1m7/7\u001b[0m \u001b[32m━━━━━━━━━━━━━━━━━━━━\u001b[0m\u001b[37m\u001b[0m \u001b[1m0s\u001b[0m 9ms/step - accuracy: 0.8257 - loss: 0.4581 - val_accuracy: 0.8550 - val_loss: 0.4287\n",
            "Epoch 11/50\n",
            "\u001b[1m7/7\u001b[0m \u001b[32m━━━━━━━━━━━━━━━━━━━━\u001b[0m\u001b[37m\u001b[0m \u001b[1m0s\u001b[0m 9ms/step - accuracy: 0.8280 - loss: 0.4577 - val_accuracy: 0.8550 - val_loss: 0.4394\n",
            "Epoch 12/50\n",
            "\u001b[1m7/7\u001b[0m \u001b[32m━━━━━━━━━━━━━━━━━━━━\u001b[0m\u001b[37m\u001b[0m \u001b[1m0s\u001b[0m 11ms/step - accuracy: 0.8272 - loss: 0.4576 - val_accuracy: 0.8550 - val_loss: 0.4452\n",
            "Epoch 13/50\n",
            "\u001b[1m7/7\u001b[0m \u001b[32m━━━━━━━━━━━━━━━━━━━━\u001b[0m\u001b[37m\u001b[0m \u001b[1m0s\u001b[0m 12ms/step - accuracy: 0.8249 - loss: 0.4646 - val_accuracy: 0.8550 - val_loss: 0.4351\n",
            "Epoch 14/50\n",
            "\u001b[1m7/7\u001b[0m \u001b[32m━━━━━━━━━━━━━━━━━━━━\u001b[0m\u001b[37m\u001b[0m \u001b[1m0s\u001b[0m 17ms/step - accuracy: 0.8268 - loss: 0.4635 - val_accuracy: 0.8550 - val_loss: 0.4307\n",
            "Epoch 15/50\n",
            "\u001b[1m7/7\u001b[0m \u001b[32m━━━━━━━━━━━━━━━━━━━━\u001b[0m\u001b[37m\u001b[0m \u001b[1m0s\u001b[0m 13ms/step - accuracy: 0.8307 - loss: 0.4508 - val_accuracy: 0.8550 - val_loss: 0.4281\n",
            "Epoch 16/50\n",
            "\u001b[1m7/7\u001b[0m \u001b[32m━━━━━━━━━━━━━━━━━━━━\u001b[0m\u001b[37m\u001b[0m \u001b[1m0s\u001b[0m 10ms/step - accuracy: 0.8258 - loss: 0.4617 - val_accuracy: 0.8550 - val_loss: 0.4273\n",
            "Epoch 17/50\n",
            "\u001b[1m7/7\u001b[0m \u001b[32m━━━━━━━━━━━━━━━━━━━━\u001b[0m\u001b[37m\u001b[0m \u001b[1m0s\u001b[0m 10ms/step - accuracy: 0.8192 - loss: 0.4736 - val_accuracy: 0.8550 - val_loss: 0.4288\n",
            "Epoch 18/50\n",
            "\u001b[1m7/7\u001b[0m \u001b[32m━━━━━━━━━━━━━━━━━━━━\u001b[0m\u001b[37m\u001b[0m \u001b[1m0s\u001b[0m 10ms/step - accuracy: 0.8159 - loss: 0.4798 - val_accuracy: 0.8550 - val_loss: 0.4292\n",
            "Epoch 19/50\n",
            "\u001b[1m7/7\u001b[0m \u001b[32m━━━━━━━━━━━━━━━━━━━━\u001b[0m\u001b[37m\u001b[0m \u001b[1m0s\u001b[0m 12ms/step - accuracy: 0.8286 - loss: 0.4553 - val_accuracy: 0.8550 - val_loss: 0.4307\n",
            "Epoch 20/50\n",
            "\u001b[1m7/7\u001b[0m \u001b[32m━━━━━━━━━━━━━━━━━━━━\u001b[0m\u001b[37m\u001b[0m \u001b[1m0s\u001b[0m 11ms/step - accuracy: 0.8365 - loss: 0.4441 - val_accuracy: 0.8550 - val_loss: 0.4266\n",
            "Epoch 21/50\n",
            "\u001b[1m7/7\u001b[0m \u001b[32m━━━━━━━━━━━━━━━━━━━━\u001b[0m\u001b[37m\u001b[0m \u001b[1m0s\u001b[0m 10ms/step - accuracy: 0.8306 - loss: 0.4521 - val_accuracy: 0.8550 - val_loss: 0.4217\n",
            "Epoch 22/50\n",
            "\u001b[1m7/7\u001b[0m \u001b[32m━━━━━━━━━━━━━━━━━━━━\u001b[0m\u001b[37m\u001b[0m \u001b[1m0s\u001b[0m 13ms/step - accuracy: 0.8308 - loss: 0.4569 - val_accuracy: 0.8550 - val_loss: 0.4270\n",
            "Epoch 23/50\n",
            "\u001b[1m7/7\u001b[0m \u001b[32m━━━━━━━━━━━━━━━━━━━━\u001b[0m\u001b[37m\u001b[0m \u001b[1m0s\u001b[0m 8ms/step - accuracy: 0.8133 - loss: 0.4804 - val_accuracy: 0.8550 - val_loss: 0.4270\n",
            "Epoch 24/50\n",
            "\u001b[1m7/7\u001b[0m \u001b[32m━━━━━━━━━━━━━━━━━━━━\u001b[0m\u001b[37m\u001b[0m \u001b[1m0s\u001b[0m 12ms/step - accuracy: 0.8317 - loss: 0.4508 - val_accuracy: 0.8550 - val_loss: 0.4266\n",
            "Epoch 25/50\n",
            "\u001b[1m7/7\u001b[0m \u001b[32m━━━━━━━━━━━━━━━━━━━━\u001b[0m\u001b[37m\u001b[0m \u001b[1m0s\u001b[0m 10ms/step - accuracy: 0.8210 - loss: 0.4704 - val_accuracy: 0.8550 - val_loss: 0.4225\n",
            "Epoch 26/50\n",
            "\u001b[1m7/7\u001b[0m \u001b[32m━━━━━━━━━━━━━━━━━━━━\u001b[0m\u001b[37m\u001b[0m \u001b[1m0s\u001b[0m 11ms/step - accuracy: 0.8236 - loss: 0.4644 - val_accuracy: 0.8550 - val_loss: 0.4204\n",
            "Epoch 27/50\n",
            "\u001b[1m7/7\u001b[0m \u001b[32m━━━━━━━━━━━━━━━━━━━━\u001b[0m\u001b[37m\u001b[0m \u001b[1m0s\u001b[0m 8ms/step - accuracy: 0.8376 - loss: 0.4444 - val_accuracy: 0.8550 - val_loss: 0.4248\n",
            "Epoch 28/50\n",
            "\u001b[1m7/7\u001b[0m \u001b[32m━━━━━━━━━━━━━━━━━━━━\u001b[0m\u001b[37m\u001b[0m \u001b[1m0s\u001b[0m 9ms/step - accuracy: 0.8233 - loss: 0.4649 - val_accuracy: 0.8550 - val_loss: 0.4216\n",
            "Epoch 29/50\n",
            "\u001b[1m7/7\u001b[0m \u001b[32m━━━━━━━━━━━━━━━━━━━━\u001b[0m\u001b[37m\u001b[0m \u001b[1m0s\u001b[0m 9ms/step - accuracy: 0.8214 - loss: 0.4690 - val_accuracy: 0.8550 - val_loss: 0.4191\n",
            "Epoch 30/50\n",
            "\u001b[1m7/7\u001b[0m \u001b[32m━━━━━━━━━━━━━━━━━━━━\u001b[0m\u001b[37m\u001b[0m \u001b[1m0s\u001b[0m 11ms/step - accuracy: 0.8229 - loss: 0.4671 - val_accuracy: 0.8550 - val_loss: 0.4250\n",
            "Epoch 31/50\n",
            "\u001b[1m7/7\u001b[0m \u001b[32m━━━━━━━━━━━━━━━━━━━━\u001b[0m\u001b[37m\u001b[0m \u001b[1m0s\u001b[0m 13ms/step - accuracy: 0.8291 - loss: 0.4571 - val_accuracy: 0.8550 - val_loss: 0.4242\n",
            "Epoch 32/50\n",
            "\u001b[1m7/7\u001b[0m \u001b[32m━━━━━━━━━━━━━━━━━━━━\u001b[0m\u001b[37m\u001b[0m \u001b[1m0s\u001b[0m 12ms/step - accuracy: 0.8383 - loss: 0.4364 - val_accuracy: 0.8550 - val_loss: 0.4202\n",
            "Epoch 33/50\n",
            "\u001b[1m7/7\u001b[0m \u001b[32m━━━━━━━━━━━━━━━━━━━━\u001b[0m\u001b[37m\u001b[0m \u001b[1m0s\u001b[0m 8ms/step - accuracy: 0.8196 - loss: 0.4676 - val_accuracy: 0.8550 - val_loss: 0.4168\n",
            "Epoch 34/50\n",
            "\u001b[1m7/7\u001b[0m \u001b[32m━━━━━━━━━━━━━━━━━━━━\u001b[0m\u001b[37m\u001b[0m \u001b[1m0s\u001b[0m 9ms/step - accuracy: 0.8214 - loss: 0.4681 - val_accuracy: 0.8550 - val_loss: 0.4188\n",
            "Epoch 35/50\n",
            "\u001b[1m7/7\u001b[0m \u001b[32m━━━━━━━━━━━━━━━━━━━━\u001b[0m\u001b[37m\u001b[0m \u001b[1m0s\u001b[0m 9ms/step - accuracy: 0.8195 - loss: 0.4651 - val_accuracy: 0.8550 - val_loss: 0.4248\n",
            "Epoch 36/50\n",
            "\u001b[1m7/7\u001b[0m \u001b[32m━━━━━━━━━━━━━━━━━━━━\u001b[0m\u001b[37m\u001b[0m \u001b[1m0s\u001b[0m 9ms/step - accuracy: 0.8304 - loss: 0.4477 - val_accuracy: 0.8550 - val_loss: 0.4199\n",
            "Epoch 37/50\n",
            "\u001b[1m7/7\u001b[0m \u001b[32m━━━━━━━━━━━━━━━━━━━━\u001b[0m\u001b[37m\u001b[0m \u001b[1m0s\u001b[0m 9ms/step - accuracy: 0.8304 - loss: 0.4491 - val_accuracy: 0.8550 - val_loss: 0.4180\n",
            "Epoch 38/50\n",
            "\u001b[1m7/7\u001b[0m \u001b[32m━━━━━━━━━━━━━━━━━━━━\u001b[0m\u001b[37m\u001b[0m \u001b[1m0s\u001b[0m 13ms/step - accuracy: 0.8339 - loss: 0.4458 - val_accuracy: 0.8550 - val_loss: 0.4182\n",
            "Epoch 39/50\n",
            "\u001b[1m7/7\u001b[0m \u001b[32m━━━━━━━━━━━━━━━━━━━━\u001b[0m\u001b[37m\u001b[0m \u001b[1m0s\u001b[0m 9ms/step - accuracy: 0.8287 - loss: 0.4518 - val_accuracy: 0.8550 - val_loss: 0.4174\n",
            "Epoch 40/50\n",
            "\u001b[1m7/7\u001b[0m \u001b[32m━━━━━━━━━━━━━━━━━━━━\u001b[0m\u001b[37m\u001b[0m \u001b[1m0s\u001b[0m 13ms/step - accuracy: 0.8331 - loss: 0.4472 - val_accuracy: 0.8550 - val_loss: 0.4175\n",
            "Epoch 41/50\n",
            "\u001b[1m7/7\u001b[0m \u001b[32m━━━━━━━━━━━━━━━━━━━━\u001b[0m\u001b[37m\u001b[0m \u001b[1m0s\u001b[0m 9ms/step - accuracy: 0.8240 - loss: 0.4628 - val_accuracy: 0.8550 - val_loss: 0.4162\n",
            "Epoch 42/50\n",
            "\u001b[1m7/7\u001b[0m \u001b[32m━━━━━━━━━━━━━━━━━━━━\u001b[0m\u001b[37m\u001b[0m \u001b[1m0s\u001b[0m 9ms/step - accuracy: 0.8214 - loss: 0.4663 - val_accuracy: 0.8550 - val_loss: 0.4188\n",
            "Epoch 43/50\n",
            "\u001b[1m7/7\u001b[0m \u001b[32m━━━━━━━━━━━━━━━━━━━━\u001b[0m\u001b[37m\u001b[0m \u001b[1m0s\u001b[0m 12ms/step - accuracy: 0.8303 - loss: 0.4533 - val_accuracy: 0.8550 - val_loss: 0.4233\n",
            "Epoch 44/50\n",
            "\u001b[1m7/7\u001b[0m \u001b[32m━━━━━━━━━━━━━━━━━━━━\u001b[0m\u001b[37m\u001b[0m \u001b[1m0s\u001b[0m 9ms/step - accuracy: 0.8165 - loss: 0.4720 - val_accuracy: 0.8550 - val_loss: 0.4169\n",
            "Epoch 45/50\n",
            "\u001b[1m7/7\u001b[0m \u001b[32m━━━━━━━━━━━━━━━━━━━━\u001b[0m\u001b[37m\u001b[0m \u001b[1m0s\u001b[0m 8ms/step - accuracy: 0.8194 - loss: 0.4658 - val_accuracy: 0.8550 - val_loss: 0.4179\n",
            "Epoch 46/50\n",
            "\u001b[1m7/7\u001b[0m \u001b[32m━━━━━━━━━━━━━━━━━━━━\u001b[0m\u001b[37m\u001b[0m \u001b[1m0s\u001b[0m 12ms/step - accuracy: 0.8224 - loss: 0.4667 - val_accuracy: 0.8550 - val_loss: 0.4178\n",
            "Epoch 47/50\n",
            "\u001b[1m7/7\u001b[0m \u001b[32m━━━━━━━━━━━━━━━━━━━━\u001b[0m\u001b[37m\u001b[0m \u001b[1m0s\u001b[0m 12ms/step - accuracy: 0.8239 - loss: 0.4627 - val_accuracy: 0.8550 - val_loss: 0.4206\n",
            "Epoch 48/50\n",
            "\u001b[1m7/7\u001b[0m \u001b[32m━━━━━━━━━━━━━━━━━━━━\u001b[0m\u001b[37m\u001b[0m \u001b[1m0s\u001b[0m 9ms/step - accuracy: 0.8411 - loss: 0.4335 - val_accuracy: 0.8550 - val_loss: 0.4171\n",
            "Epoch 49/50\n",
            "\u001b[1m7/7\u001b[0m \u001b[32m━━━━━━━━━━━━━━━━━━━━\u001b[0m\u001b[37m\u001b[0m \u001b[1m0s\u001b[0m 11ms/step - accuracy: 0.8368 - loss: 0.4420 - val_accuracy: 0.8550 - val_loss: 0.4164\n",
            "Epoch 50/50\n",
            "\u001b[1m7/7\u001b[0m \u001b[32m━━━━━━━━━━━━━━━━━━━━\u001b[0m\u001b[37m\u001b[0m \u001b[1m0s\u001b[0m 9ms/step - accuracy: 0.8259 - loss: 0.4612 - val_accuracy: 0.8550 - val_loss: 0.4142\n",
            "\u001b[1m32/32\u001b[0m \u001b[32m━━━━━━━━━━━━━━━━━━━━\u001b[0m\u001b[37m\u001b[0m \u001b[1m0s\u001b[0m 2ms/step - accuracy: 0.8014 - loss: 0.4937 \n",
            "Test loss: 0.4507594406604767, Test accuracy: 0.8320000171661377\n"
          ]
        }
      ]
    },
    {
      "cell_type": "code",
      "source": [
        "def is_prime(n):\n",
        "    if n <= 1:\n",
        "        return False\n",
        "    if n <= 3:\n",
        "        return True\n",
        "    if n % 2 == 0 or n % 3 == 0:\n",
        "        return False\n",
        "    i = 5\n",
        "    while i * i <= n:\n",
        "        if n % i == 0 or n % (i + 2) == 0:\n",
        "            return False\n",
        "        i += 6\n",
        "    return True\n",
        "\n",
        "def print_primes(start, end):\n",
        "    primes = [num for num in range(start, end + 1) if is_prime(num)]\n",
        "    print(\"Prime numbers:\", primes)\n",
        "\n",
        "print_primes(1, 100)"
      ],
      "metadata": {
        "colab": {
          "base_uri": "https://localhost:8080/"
        },
        "id": "XKl_35rYan-r",
        "outputId": "2313ad3e-83c9-4aa6-a4ae-7942814f6b3d"
      },
      "execution_count": 33,
      "outputs": [
        {
          "output_type": "stream",
          "name": "stdout",
          "text": [
            "Prime numbers: [2, 3, 5, 7, 11, 13, 17, 19, 23, 29, 31, 37, 41, 43, 47, 53, 59, 61, 67, 71, 73, 79, 83, 89, 97]\n"
          ]
        }
      ]
    }
  ]
}